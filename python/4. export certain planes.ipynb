{
 "cells": [
  {
   "cell_type": "markdown",
   "metadata": {},
   "source": [
    "# Departure by plane model\n"
   ]
  },
  {
   "cell_type": "markdown",
   "metadata": {},
   "source": [
    "## Importing\n",
    "Importing libraries. Setting `%matplotlib inline` to plott the graph inside the notebook"
   ]
  },
  {
   "cell_type": "code",
   "execution_count": 1,
   "metadata": {},
   "outputs": [],
   "source": [
    "%matplotlib inline\n",
    "\n",
    "import pandas as pd\n",
    "import geopandas\n",
    "from shapely.geometry import Point, Polygon, LineString\n",
    "import fiona\n",
    "import datetime\n",
    "import numpy as np"
   ]
  },
  {
   "cell_type": "markdown",
   "metadata": {},
   "source": [
    "Importing CSV"
   ]
  },
  {
   "cell_type": "code",
   "execution_count": 2,
   "metadata": {},
   "outputs": [],
   "source": [
    "# Import Points\n",
    "#df_points = pd.read_csv('data/20180521_sampled.csv')\n",
    "df_points = pd.read_csv('../data_generated/20180521_sampled.csv')"
   ]
  },
  {
   "cell_type": "code",
   "execution_count": 3,
   "metadata": {},
   "outputs": [],
   "source": [
    "#Import Plane list\n",
    "df_planes = pd.read_csv('../data_generated/swiss_airplanes.csv')"
   ]
  },
  {
   "cell_type": "markdown",
   "metadata": {},
   "source": [
    "## Join points and airplanes"
   ]
  },
  {
   "cell_type": "code",
   "execution_count": 110,
   "metadata": {},
   "outputs": [],
   "source": [
    "# set index\n",
    "df_planes = df_planes.set_index('icao24')\n",
    "\n",
    "# Join\n",
    "df_joined = df_points.join(df_planes, on='icao24')"
   ]
  },
  {
   "cell_type": "code",
   "execution_count": 111,
   "metadata": {
    "scrolled": true
   },
   "outputs": [],
   "source": [
    "# Only take swiss planes\n",
    "df_swiss = df_joined[df_joined.status == 'active']\n",
    "\n",
    "#Cleanup\n",
    "#df_swiss['timestamp'] = pd.to_datetime(df_swiss['timestamp'], format='%Y-%m-%d %H:%M:%S')\n",
    "df_swiss = df_swiss.round({'altitude': 0})"
   ]
  },
  {
   "cell_type": "code",
   "execution_count": 112,
   "metadata": {},
   "outputs": [
    {
     "name": "stderr",
     "output_type": "stream",
     "text": [
      "/Library/Frameworks/Python.framework/Versions/3.6/lib/python3.6/site-packages/ipykernel_launcher.py:3: UserWarning: Boolean Series key will be reindexed to match DataFrame index.\n",
      "  This is separate from the ipykernel package so we can avoid doing imports until\n"
     ]
    }
   ],
   "source": [
    "df_planes = df_swiss[df_swiss['icao24'].isin([\"4b1881\", \"4b1801\", '4b1611', '4b1613', '4b17fd', '4b17f8', '4b1612'])]\n",
    "#df_planes = df_swiss.copy()\n",
    "df_planes = df_planes[df_swiss['altitude'] > 0]\n",
    "\n",
    "# Create Geometry\n",
    "geometry = [Point(xy) for xy in zip(df_planes.longitude, df_planes.latitude)]\n",
    "geo_df = geopandas.GeoDataFrame(df_planes, crs={'init': 'epsg:4326'}, geometry=geometry)"
   ]
  },
  {
   "cell_type": "code",
   "execution_count": 41,
   "metadata": {},
   "outputs": [
    {
     "data": {
      "text/plain": [
       "<matplotlib.axes._subplots.AxesSubplot at 0x14db85710>"
      ]
     },
     "execution_count": 41,
     "metadata": {},
     "output_type": "execute_result"
    },
    {
     "data": {
      "image/png": "[encoded data removed]",
      "text/plain": [
       "<Figure size 864x864 with 1 Axes>"
      ]
     },
     "metadata": {},
     "output_type": "display_data"
    }
   ],
   "source": [
    "df_planes.plot(figsize=(12, 12),markersize=1, alpha=0.4)"
   ]
  },
  {
   "cell_type": "code",
   "execution_count": 113,
   "metadata": {},
   "outputs": [
    {
     "name": "stderr",
     "output_type": "stream",
     "text": [
      "/Library/Frameworks/Python.framework/Versions/3.6/lib/python3.6/site-packages/geopandas/io/file.py:108: FionaDeprecationWarning: Use fiona.Env() instead.\n",
      "  with fiona.drivers():\n",
      "CPLE_NotSupported in Normalized/laundered field name: 'ground_speed' to 'ground_spe'\n",
      "CPLE_NotSupported in Normalized/laundered field name: 'vertical_rate' to 'vertical_r'\n",
      "CPLE_NotSupported in Normalized/laundered field name: 'baro_altitude' to 'baro_altit'\n",
      "CPLE_NotSupported in Normalized/laundered field name: 'last_position' to 'last_posit'\n",
      "CPLE_NotSupported in Normalized/laundered field name: 'Registration' to 'Registrati'\n"
     ]
    }
   ],
   "source": [
    "#Drop bools and others\n",
    "export = geo_df.drop(['alert', 'spi', 'onground'], axis=1)\n",
    "\n",
    "#export\n",
    "export.to_file(\"../qgis/certain_planes.shp\")"
   ]
  },
  {
   "cell_type": "markdown",
   "metadata": {},
   "source": [
    "## Export Zurich Airport"
   ]
  },
  {
   "cell_type": "code",
   "execution_count": 94,
   "metadata": {},
   "outputs": [
    {
     "name": "stderr",
     "output_type": "stream",
     "text": [
      "/Library/Frameworks/Python.framework/Versions/3.6/lib/python3.6/site-packages/ipykernel_launcher.py:10: UserWarning: Boolean Series key will be reindexed to match DataFrame index.\n",
      "  # Remove the CWD from sys.path while we load stuff.\n"
     ]
    }
   ],
   "source": [
    "# Only take swiss planes\n",
    "df_planes = df_joined[df_joined.status == 'active']\n",
    "\n",
    "#Cleanup\n",
    "#df_swiss['timestamp'] = pd.to_datetime(df_swiss['timestamp'], format='%Y-%m-%d %H:%M:%S')\n",
    "df_planes = df_planes.round({'altitude': 0})\n",
    "\n",
    "#df_planes = df_swiss[df_swiss['icao24'].isin([\"4b1881\", \"4b1801\"])]\n",
    "df_planes = df_planes[df_swiss['altitude'] > 0]\n",
    "df_planes = df_planes[df_swiss['altitude'] < 3000]\n",
    "\n",
    "# Create Geometry\n",
    "geometry = [Point(xy) for xy in zip(df_planes.longitude, df_planes.latitude)]\n",
    "geo_df = geopandas.GeoDataFrame(df_planes, crs={'init': 'epsg:4326'}, geometry=geometry)\n",
    "\n",
    "# Aggregate these points with the GroupBy\n",
    "#geo_df = geo_df.groupby(['icao24'])['geometry'].apply(lambda x: LineString(x.tolist()))\n",
    "#geo_df = geopandas.GeoDataFrame(geo_df, geometry='geometry')"
   ]
  },
  {
   "cell_type": "code",
   "execution_count": 95,
   "metadata": {},
   "outputs": [],
   "source": [
    "# Airport Zurich\n",
    "coords = [( 8.4994, 47.4863 ), ( 8.4994, 47.4283 ), ( 8.619, 47.4283 ), ( 8.619, 47.4863 ), ( 8.4994, 47.4863 )]\n",
    "zurich_airport = Polygon(coords)"
   ]
  },
  {
   "cell_type": "code",
   "execution_count": 97,
   "metadata": {},
   "outputs": [
    {
     "name": "stderr",
     "output_type": "stream",
     "text": [
      "/Library/Frameworks/Python.framework/Versions/3.6/lib/python3.6/site-packages/geopandas/io/file.py:108: FionaDeprecationWarning: Use fiona.Env() instead.\n",
      "  with fiona.drivers():\n",
      "CPLE_NotSupported in Normalized/laundered field name: 'ground_speed' to 'ground_spe'\n",
      "CPLE_NotSupported in Normalized/laundered field name: 'vertical_rate' to 'vertical_r'\n",
      "CPLE_NotSupported in Normalized/laundered field name: 'baro_altitude' to 'baro_altit'\n",
      "CPLE_NotSupported in Normalized/laundered field name: 'last_position' to 'last_posit'\n",
      "CPLE_NotSupported in Normalized/laundered field name: 'Registration' to 'Registrati'\n"
     ]
    }
   ],
   "source": [
    "export = geo_df[geo_df.geometry.within(zurich_airport)]\n",
    "#export = geo_df.copy()\n",
    "\n",
    "#Drop bools and others\n",
    "export = export.drop(['alert', 'spi', 'onground'], axis=1)\n",
    "\n",
    "#export\n",
    "export.to_file(\"../qgis/certain_zurich.shp\")"
   ]
  },
  {
   "cell_type": "code",
   "execution_count": null,
   "metadata": {},
   "outputs": [],
   "source": []
  },
  {
   "cell_type": "code",
   "execution_count": null,
   "metadata": {},
   "outputs": [],
   "source": []
  }
 ],
 "metadata": {
  "kernelspec": {
   "display_name": "Python 3",
   "language": "python",
   "name": "python3"
  },
  "language_info": {
   "codemirror_mode": {
    "name": "ipython",
    "version": 3
   },
   "file_extension": ".py",
   "mimetype": "text/x-python",
   "name": "python",
   "nbconvert_exporter": "python",
   "pygments_lexer": "ipython3",
   "version": "3.6.5"
  }
 },
 "nbformat": 4,
 "nbformat_minor": 2
}
