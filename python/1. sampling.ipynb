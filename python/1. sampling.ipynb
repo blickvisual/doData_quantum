{
 "cells": [
  {
   "cell_type": "markdown",
   "metadata": {},
   "source": [
    "# 1. sampling\n",
    "This script creates a (non-scientific!) sample: It just takes every tenth coordinate. Output: `data/20180521_sampled.csv`"
   ]
  },
  {
   "cell_type": "code",
   "execution_count": 1,
   "metadata": {},
   "outputs": [
    {
     "name": "stdout",
     "output_type": "stream",
     "text": [
      "Sampled\n"
     ]
    }
   ],
   "source": [
    "file_in = '../data_generated/20180521.csv'\n",
    "file_out = '../data_generated/20180521_sampled.csv'\n",
    "\n",
    "taking_nt = 10\n",
    "\n",
    "with open(file_out, 'w') as outfile:\n",
    "    with open(file_in) as infile:\n",
    "        i = 0\n",
    "        for line in infile:\n",
    "            if i % taking_nt == 0:\n",
    "                outfile.write(line)\n",
    "            i += 1\n",
    "\n",
    "print(\"Sampled\")"
   ]
  },
  {
   "cell_type": "code",
   "execution_count": null,
   "metadata": {},
   "outputs": [],
   "source": []
  }
 ],
 "metadata": {
  "kernelspec": {
   "display_name": "Python 3",
   "language": "python",
   "name": "python3"
  },
  "language_info": {
   "codemirror_mode": {
    "name": "ipython",
    "version": 3
   },
   "file_extension": ".py",
   "mimetype": "text/x-python",
   "name": "python",
   "nbconvert_exporter": "python",
   "pygments_lexer": "ipython3",
   "version": "3.6.5"
  }
 },
 "nbformat": 4,
 "nbformat_minor": 2
}
