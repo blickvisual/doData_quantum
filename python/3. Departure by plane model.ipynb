{
 "cells": [
  {
   "cell_type": "markdown",
   "metadata": {},
   "source": [
    "# Departure by plane model\n"
   ]
  },
  {
   "cell_type": "markdown",
   "metadata": {},
   "source": [
    "## Importing\n",
    "Importing libraries. Setting `%matplotlib inline` to plott the graph inside the notebook"
   ]
  },
  {
   "cell_type": "code",
   "execution_count": 1,
   "metadata": {},
   "outputs": [],
   "source": [
    "%matplotlib inline\n",
    "\n",
    "import pandas as pd\n",
    "import geopandas\n",
    "from shapely.geometry import Point, Polygon\n",
    "import fiona\n",
    "import datetime\n",
    "import numpy as np"
   ]
  },
  {
   "cell_type": "markdown",
   "metadata": {},
   "source": [
    "Importing CSV"
   ]
  },
  {
   "cell_type": "code",
   "execution_count": 33,
   "metadata": {},
   "outputs": [],
   "source": [
    "# Import Points\n",
    "#df_points = pd.read_csv('data/20180521_sampled.csv')\n",
    "df_points = pd.read_csv('../data_generated/20180521.csv')"
   ]
  },
  {
   "cell_type": "code",
   "execution_count": 67,
   "metadata": {},
   "outputs": [],
   "source": [
    "#Import Plane list\n",
    "df_planes = pd.read_csv('../data_generated/swiss_airplanes.csv')"
   ]
  },
  {
   "cell_type": "markdown",
   "metadata": {},
   "source": [
    "## Join points and airplanes"
   ]
  },
  {
   "cell_type": "code",
   "execution_count": 68,
   "metadata": {},
   "outputs": [],
   "source": [
    "# set index\n",
    "df_planes = df_planes.set_index('icao24')\n",
    "\n",
    "# Join\n",
    "df_joined = df_points.join(df_planes, on='icao24')"
   ]
  },
  {
   "cell_type": "code",
   "execution_count": 69,
   "metadata": {
    "scrolled": true
   },
   "outputs": [
    {
     "name": "stderr",
     "output_type": "stream",
     "text": [
      "/Library/Frameworks/Python.framework/Versions/3.6/lib/python3.6/site-packages/ipykernel_launcher.py:5: SettingWithCopyWarning: \n",
      "A value is trying to be set on a copy of a slice from a DataFrame.\n",
      "Try using .loc[row_indexer,col_indexer] = value instead\n",
      "\n",
      "See the caveats in the documentation: http://pandas.pydata.org/pandas-docs/stable/indexing.html#indexing-view-versus-copy\n",
      "  \"\"\"\n",
      "/Library/Frameworks/Python.framework/Versions/3.6/lib/python3.6/site-packages/ipykernel_launcher.py:6: SettingWithCopyWarning: \n",
      "A value is trying to be set on a copy of a slice from a DataFrame.\n",
      "Try using .loc[row_indexer,col_indexer] = value instead\n",
      "\n",
      "See the caveats in the documentation: http://pandas.pydata.org/pandas-docs/stable/indexing.html#indexing-view-versus-copy\n",
      "  \n"
     ]
    }
   ],
   "source": [
    "# Only take swiss planes\n",
    "df_swiss = df_joined[df_joined.status == 'active']\n",
    "\n",
    "#Cleanup\n",
    "df_swiss['timestamp'] = pd.to_datetime(df_swiss['timestamp'], format='%Y-%m-%d %H:%M:%S')\n",
    "df_swiss['run'] = None\n",
    "df_swiss = df_swiss.round({'altitude': 0})"
   ]
  },
  {
   "cell_type": "markdown",
   "metadata": {},
   "source": [
    "**Fehler vorhanden.** Manche Starts kommen doppelt"
   ]
  },
  {
   "cell_type": "code",
   "execution_count": 83,
   "metadata": {
    "scrolled": true
   },
   "outputs": [
    {
     "name": "stdout",
     "output_type": "stream",
     "text": [
      "4b1801\n",
      "== 3 ==\n",
      "2018-05-21 17:55:03 - 2018-05-21 17:56:03\n",
      "60\n"
     ]
    },
    {
     "name": "stderr",
     "output_type": "stream",
     "text": [
      "/Library/Frameworks/Python.framework/Versions/3.6/lib/python3.6/site-packages/ipykernel_launcher.py:39: SettingWithCopyWarning: \n",
      "A value is trying to be set on a copy of a slice from a DataFrame.\n",
      "Try using .loc[row_indexer,col_indexer] = value instead\n",
      "\n",
      "See the caveats in the documentation: http://pandas.pydata.org/pandas-docs/stable/indexing.html#indexing-view-versus-copy\n",
      "/Library/Frameworks/Python.framework/Versions/3.6/lib/python3.6/site-packages/ipykernel_launcher.py:40: SettingWithCopyWarning: \n",
      "A value is trying to be set on a copy of a slice from a DataFrame.\n",
      "Try using .loc[row_indexer,col_indexer] = value instead\n",
      "\n",
      "See the caveats in the documentation: http://pandas.pydata.org/pandas-docs/stable/indexing.html#indexing-view-versus-copy\n",
      "/Library/Frameworks/Python.framework/Versions/3.6/lib/python3.6/site-packages/ipykernel_launcher.py:41: SettingWithCopyWarning: \n",
      "A value is trying to be set on a copy of a slice from a DataFrame.\n",
      "Try using .loc[row_indexer,col_indexer] = value instead\n",
      "\n",
      "See the caveats in the documentation: http://pandas.pydata.org/pandas-docs/stable/indexing.html#indexing-view-versus-copy\n",
      "/Library/Frameworks/Python.framework/Versions/3.6/lib/python3.6/site-packages/ipykernel_launcher.py:42: FutureWarning: Sorting because non-concatenation axis is not aligned. A future version\n",
      "of pandas will change to not sort by default.\n",
      "\n",
      "To accept the future behavior, pass 'sort=False'.\n",
      "\n",
      "To retain the current behavior and silence the warning, pass 'sort=True'.\n",
      "\n"
     ]
    },
    {
     "name": "stdout",
     "output_type": "stream",
     "text": [
      "2018-05-21 23:02:35 - 2018-05-21 23:03:35\n",
      "60\n",
      "2018-05-21 23:02:38 - 2018-05-21 23:03:38\n",
      "60\n",
      "4b1881\n",
      "== 1 ==\n",
      "2018-05-21 10:09:41 - 2018-05-21 10:10:41\n",
      "60\n",
      "240\n"
     ]
    }
   ],
   "source": [
    "#TMP\n",
    "df_swiss = df_swiss[df_swiss['icao24'].isin([\"4b1881\", \"4b1801\"])]\n",
    "\n",
    "# Set Multiindex\n",
    "indexed = df_swiss.set_index(['icao24', 'timestamp'])\n",
    "\n",
    "#Cleanup\n",
    "#indexed = indexed[(indexed['altitude'] > 0) & (indexed['altitude'] < 1605)]\n",
    "\n",
    "\n",
    "#create empty dataset\n",
    "df_departures = pd.DataFrame(data=None, columns=indexed.columns)\n",
    "\n",
    "# Loop all icao24 (index)\n",
    "for icao24 in indexed.index.get_level_values('icao24').unique():\n",
    "    \n",
    "    print(icao24)\n",
    "    \n",
    "    # Get all Points from plane\n",
    "    df_current_plane = df_swiss[df_swiss['icao24'] == icao24]\n",
    "    \n",
    "    df_current_plane = df_current_plane[df_current_plane['altitude'] > 0]\n",
    "    df_current_plane = df_current_plane[df_current_plane['altitude'] < 1605]\n",
    "    \n",
    "    df_current_plane['vertical_rate_prev'] = df_current_plane['vertical_rate'].shift(1)\n",
    "    df_current_plane['startpoint'] = np.where((df_current_plane['vertical_rate_prev'] <= 0) & (df_current_plane['vertical_rate'] > 0), True, False)\n",
    "    \n",
    "    df_startsPerPlane = df_current_plane[df_current_plane['startpoint'] == 1]\n",
    "    \n",
    "    print(\"== \" + str(len(df_startsPerPlane)) + \" ==\")\n",
    "\n",
    "    c = 0\n",
    "    for i, startpoint in df_startsPerPlane.iterrows():\n",
    "        starttime = df_startsPerPlane.at[i, 'timestamp']\n",
    "        endtime = starttime + datetime.timedelta(minutes=1)\n",
    "        print(str(starttime) +' - ' + str(endtime))\n",
    "        track = df_swiss[(df_swiss['timestamp'] >= starttime) & (df_swiss['timestamp'] < endtime)]\n",
    "        print(len(track))\n",
    "        track['timesincedeparture'] = track['timestamp'] - starttime\n",
    "        track['timesincedeparture_int'] = track['timesincedeparture'].dt.total_seconds()\n",
    "        track['run'] = c\n",
    "        df_departures = pd.concat([df_departures, track])\n",
    "        c += 1\n",
    "\n",
    "    #print(len(df))\n",
    "    #print(icao24)\n",
    "    #print(indexed.loc[date])\n",
    "    \n",
    "print(len(df_departures))"
   ]
  },
  {
   "cell_type": "code",
   "execution_count": 84,
   "metadata": {},
   "outputs": [
    {
     "name": "stderr",
     "output_type": "stream",
     "text": [
      "/Library/Frameworks/Python.framework/Versions/3.6/lib/python3.6/site-packages/geopandas/io/file.py:108: FionaDeprecationWarning: Use fiona.Env() instead.\n",
      "  with fiona.drivers():\n",
      "CPLE_NotSupported in Normalized/laundered field name: 'Registration' to 'Registrati'\n",
      "CPLE_NotSupported in Normalized/laundered field name: 'baro_altitude' to 'baro_altit'\n",
      "CPLE_NotSupported in Normalized/laundered field name: 'ground_speed' to 'ground_spe'\n",
      "CPLE_NotSupported in Normalized/laundered field name: 'last_position' to 'last_posit'\n",
      "CPLE_NotSupported in Normalized/laundered field name: 'timesincedeparture_int' to 'timesinced'\n",
      "CPLE_NotSupported in Normalized/laundered field name: 'vertical_rate' to 'vertical_r'\n"
     ]
    }
   ],
   "source": [
    "# Export departures\n",
    "\n",
    "\n",
    "\n",
    "#Timestamp to string\n",
    "export = df_departures.copy()\n",
    "export['timestamp'] = export['timestamp'].astype(str)\n",
    "\n",
    "#Drop bools and others\n",
    "export = export.drop(['alert', 'spi', 'timesincedeparture'], axis=1)\n",
    "\n",
    "# Create Geometry\n",
    "geometry = [Point(xy) for xy in zip(export.longitude, export.latitude)]\n",
    "geo_df = geopandas.GeoDataFrame(export, crs={'init': 'epsg:4326'}, geometry=geometry)\n",
    "\n",
    "#export\n",
    "geo_df.to_file(\"../qgis/departures.shp\")"
   ]
  },
  {
   "cell_type": "code",
   "execution_count": 51,
   "metadata": {},
   "outputs": [
    {
     "ename": "ValueError",
     "evalue": "Index contains duplicate entries, cannot reshape",
     "output_type": "error",
     "traceback": [
      "\u001b[0;31m---------------------------------------------------------------------------\u001b[0m",
      "\u001b[0;31mValueError\u001b[0m                                Traceback (most recent call last)",
      "\u001b[0;32m<ipython-input-51-7102ba49ccd4>\u001b[0m in \u001b[0;36m<module>\u001b[0;34m()\u001b[0m\n\u001b[1;32m      1\u001b[0m \u001b[0;31m# Turn axis\u001b[0m\u001b[0;34m\u001b[0m\u001b[0;34m\u001b[0m\u001b[0m\n\u001b[0;32m----> 2\u001b[0;31m \u001b[0mpivot\u001b[0m \u001b[0;34m=\u001b[0m \u001b[0mdf_departures\u001b[0m\u001b[0;34m.\u001b[0m\u001b[0mpivot\u001b[0m\u001b[0;34m(\u001b[0m\u001b[0;34m'timesincedeparture'\u001b[0m\u001b[0;34m,\u001b[0m \u001b[0mcolumns\u001b[0m\u001b[0;34m=\u001b[0m\u001b[0;34m'icao24'\u001b[0m\u001b[0;34m,\u001b[0m \u001b[0mvalues\u001b[0m\u001b[0;34m=\u001b[0m\u001b[0;34m'altitude'\u001b[0m\u001b[0;34m)\u001b[0m\u001b[0;34m\u001b[0m\u001b[0m\n\u001b[0m\u001b[1;32m      3\u001b[0m \u001b[0;34m\u001b[0m\u001b[0m\n\u001b[1;32m      4\u001b[0m \u001b[0mpivot\u001b[0m\u001b[0;34m.\u001b[0m\u001b[0mhead\u001b[0m\u001b[0;34m(\u001b[0m\u001b[0;34m)\u001b[0m\u001b[0;34m\u001b[0m\u001b[0m\n\u001b[1;32m      5\u001b[0m \u001b[0;31m#pivot.plot(kind='line')\u001b[0m\u001b[0;34m\u001b[0m\u001b[0;34m\u001b[0m\u001b[0m\n",
      "\u001b[0;32m/Library/Frameworks/Python.framework/Versions/3.6/lib/python3.6/site-packages/pandas/core/frame.py\u001b[0m in \u001b[0;36mpivot\u001b[0;34m(self, index, columns, values)\u001b[0m\n\u001b[1;32m   5192\u001b[0m         \"\"\"\n\u001b[1;32m   5193\u001b[0m         \u001b[0;32mfrom\u001b[0m \u001b[0mpandas\u001b[0m\u001b[0;34m.\u001b[0m\u001b[0mcore\u001b[0m\u001b[0;34m.\u001b[0m\u001b[0mreshape\u001b[0m\u001b[0;34m.\u001b[0m\u001b[0mreshape\u001b[0m \u001b[0;32mimport\u001b[0m \u001b[0mpivot\u001b[0m\u001b[0;34m\u001b[0m\u001b[0m\n\u001b[0;32m-> 5194\u001b[0;31m         \u001b[0;32mreturn\u001b[0m \u001b[0mpivot\u001b[0m\u001b[0;34m(\u001b[0m\u001b[0mself\u001b[0m\u001b[0;34m,\u001b[0m \u001b[0mindex\u001b[0m\u001b[0;34m=\u001b[0m\u001b[0mindex\u001b[0m\u001b[0;34m,\u001b[0m \u001b[0mcolumns\u001b[0m\u001b[0;34m=\u001b[0m\u001b[0mcolumns\u001b[0m\u001b[0;34m,\u001b[0m \u001b[0mvalues\u001b[0m\u001b[0;34m=\u001b[0m\u001b[0mvalues\u001b[0m\u001b[0;34m)\u001b[0m\u001b[0;34m\u001b[0m\u001b[0m\n\u001b[0m\u001b[1;32m   5195\u001b[0m \u001b[0;34m\u001b[0m\u001b[0m\n\u001b[1;32m   5196\u001b[0m     _shared_docs['pivot_table'] = \"\"\"\n",
      "\u001b[0;32m/Library/Frameworks/Python.framework/Versions/3.6/lib/python3.6/site-packages/pandas/core/reshape/reshape.py\u001b[0m in \u001b[0;36mpivot\u001b[0;34m(self, index, columns, values)\u001b[0m\n\u001b[1;32m    413\u001b[0m             indexed = self._constructor_sliced(self[values].values,\n\u001b[1;32m    414\u001b[0m                                                index=index)\n\u001b[0;32m--> 415\u001b[0;31m     \u001b[0;32mreturn\u001b[0m \u001b[0mindexed\u001b[0m\u001b[0;34m.\u001b[0m\u001b[0munstack\u001b[0m\u001b[0;34m(\u001b[0m\u001b[0mcolumns\u001b[0m\u001b[0;34m)\u001b[0m\u001b[0;34m\u001b[0m\u001b[0m\n\u001b[0m\u001b[1;32m    416\u001b[0m \u001b[0;34m\u001b[0m\u001b[0m\n\u001b[1;32m    417\u001b[0m \u001b[0;34m\u001b[0m\u001b[0m\n",
      "\u001b[0;32m/Library/Frameworks/Python.framework/Versions/3.6/lib/python3.6/site-packages/pandas/core/series.py\u001b[0m in \u001b[0;36munstack\u001b[0;34m(self, level, fill_value)\u001b[0m\n\u001b[1;32m   2897\u001b[0m         \"\"\"\n\u001b[1;32m   2898\u001b[0m         \u001b[0;32mfrom\u001b[0m \u001b[0mpandas\u001b[0m\u001b[0;34m.\u001b[0m\u001b[0mcore\u001b[0m\u001b[0;34m.\u001b[0m\u001b[0mreshape\u001b[0m\u001b[0;34m.\u001b[0m\u001b[0mreshape\u001b[0m \u001b[0;32mimport\u001b[0m \u001b[0munstack\u001b[0m\u001b[0;34m\u001b[0m\u001b[0m\n\u001b[0;32m-> 2899\u001b[0;31m         \u001b[0;32mreturn\u001b[0m \u001b[0munstack\u001b[0m\u001b[0;34m(\u001b[0m\u001b[0mself\u001b[0m\u001b[0;34m,\u001b[0m \u001b[0mlevel\u001b[0m\u001b[0;34m,\u001b[0m \u001b[0mfill_value\u001b[0m\u001b[0;34m)\u001b[0m\u001b[0;34m\u001b[0m\u001b[0m\n\u001b[0m\u001b[1;32m   2900\u001b[0m \u001b[0;34m\u001b[0m\u001b[0m\n\u001b[1;32m   2901\u001b[0m     \u001b[0;31m# ----------------------------------------------------------------------\u001b[0m\u001b[0;34m\u001b[0m\u001b[0;34m\u001b[0m\u001b[0m\n",
      "\u001b[0;32m/Library/Frameworks/Python.framework/Versions/3.6/lib/python3.6/site-packages/pandas/core/reshape/reshape.py\u001b[0m in \u001b[0;36munstack\u001b[0;34m(obj, level, fill_value)\u001b[0m\n\u001b[1;32m    499\u001b[0m         unstacker = _Unstacker(obj.values, obj.index, level=level,\n\u001b[1;32m    500\u001b[0m                                \u001b[0mfill_value\u001b[0m\u001b[0;34m=\u001b[0m\u001b[0mfill_value\u001b[0m\u001b[0;34m,\u001b[0m\u001b[0;34m\u001b[0m\u001b[0m\n\u001b[0;32m--> 501\u001b[0;31m                                constructor=obj._constructor_expanddim)\n\u001b[0m\u001b[1;32m    502\u001b[0m         \u001b[0;32mreturn\u001b[0m \u001b[0munstacker\u001b[0m\u001b[0;34m.\u001b[0m\u001b[0mget_result\u001b[0m\u001b[0;34m(\u001b[0m\u001b[0;34m)\u001b[0m\u001b[0;34m\u001b[0m\u001b[0m\n\u001b[1;32m    503\u001b[0m \u001b[0;34m\u001b[0m\u001b[0m\n",
      "\u001b[0;32m/Library/Frameworks/Python.framework/Versions/3.6/lib/python3.6/site-packages/pandas/core/reshape/reshape.py\u001b[0m in \u001b[0;36m__init__\u001b[0;34m(self, values, index, level, value_columns, fill_value, constructor)\u001b[0m\n\u001b[1;32m    135\u001b[0m \u001b[0;34m\u001b[0m\u001b[0m\n\u001b[1;32m    136\u001b[0m         \u001b[0mself\u001b[0m\u001b[0;34m.\u001b[0m\u001b[0m_make_sorted_values_labels\u001b[0m\u001b[0;34m(\u001b[0m\u001b[0;34m)\u001b[0m\u001b[0;34m\u001b[0m\u001b[0m\n\u001b[0;32m--> 137\u001b[0;31m         \u001b[0mself\u001b[0m\u001b[0;34m.\u001b[0m\u001b[0m_make_selectors\u001b[0m\u001b[0;34m(\u001b[0m\u001b[0;34m)\u001b[0m\u001b[0;34m\u001b[0m\u001b[0m\n\u001b[0m\u001b[1;32m    138\u001b[0m \u001b[0;34m\u001b[0m\u001b[0m\n\u001b[1;32m    139\u001b[0m     \u001b[0;32mdef\u001b[0m \u001b[0m_make_sorted_values_labels\u001b[0m\u001b[0;34m(\u001b[0m\u001b[0mself\u001b[0m\u001b[0;34m)\u001b[0m\u001b[0;34m:\u001b[0m\u001b[0;34m\u001b[0m\u001b[0m\n",
      "\u001b[0;32m/Library/Frameworks/Python.framework/Versions/3.6/lib/python3.6/site-packages/pandas/core/reshape/reshape.py\u001b[0m in \u001b[0;36m_make_selectors\u001b[0;34m(self)\u001b[0m\n\u001b[1;32m    173\u001b[0m \u001b[0;34m\u001b[0m\u001b[0m\n\u001b[1;32m    174\u001b[0m         \u001b[0;32mif\u001b[0m \u001b[0mmask\u001b[0m\u001b[0;34m.\u001b[0m\u001b[0msum\u001b[0m\u001b[0;34m(\u001b[0m\u001b[0;34m)\u001b[0m \u001b[0;34m<\u001b[0m \u001b[0mlen\u001b[0m\u001b[0;34m(\u001b[0m\u001b[0mself\u001b[0m\u001b[0;34m.\u001b[0m\u001b[0mindex\u001b[0m\u001b[0;34m)\u001b[0m\u001b[0;34m:\u001b[0m\u001b[0;34m\u001b[0m\u001b[0m\n\u001b[0;32m--> 175\u001b[0;31m             raise ValueError('Index contains duplicate entries, '\n\u001b[0m\u001b[1;32m    176\u001b[0m                              'cannot reshape')\n\u001b[1;32m    177\u001b[0m \u001b[0;34m\u001b[0m\u001b[0m\n",
      "\u001b[0;31mValueError\u001b[0m: Index contains duplicate entries, cannot reshape"
     ]
    }
   ],
   "source": [
    "# Turn axis\n",
    "pivot = df_departures.pivot('timesincedeparture', columns='icao24', values='altitude')\n",
    "\n",
    "pivot.head()\n",
    "#pivot.plot(kind='line')\n",
    "\n",
    "\n"
   ]
  },
  {
   "cell_type": "markdown",
   "metadata": {},
   "source": [
    "## Looking at last vertical_rate"
   ]
  },
  {
   "cell_type": "code",
   "execution_count": 29,
   "metadata": {},
   "outputs": [],
   "source": [
    "#Test Peakdetection\n",
    "import numpy as np\n",
    "\n",
    "#4b1881\n",
    "#4b1801\n",
    "#4b17fd\n",
    "\n",
    "df_swiss = df_joined[df_joined.status == 'active']\n",
    "df_swiss = df_swiss[df_swiss['icao24'] == '4b169a']\n",
    "\n",
    "df_swiss = df_swiss.round({'altitude': 0})\n",
    "\n",
    "df_swiss = df_swiss.reset_index(drop=True)\n",
    "\n",
    "df_swiss['timestamp'] = pd.to_datetime(df_swiss['timestamp'], format='%Y-%m-%d %H:%M:%S')\n",
    "\n",
    "df_swiss_cleaned = df_swiss.copy()\n",
    "\n",
    "#Remove leerwerte\n",
    "df_swiss_cleaned = df_swiss_cleaned[df_swiss_cleaned['altitude'] > 0]\n",
    "df_swiss_cleaned = df_swiss_cleaned[df_swiss_cleaned['altitude'] < 1605]\n",
    "\n",
    "df_swiss_cleaned['vertical_rate_prev'] = df_swiss_cleaned['vertical_rate'].shift(1)\n",
    "df_swiss_cleaned['startpoint'] = np.where((df_swiss_cleaned['vertical_rate_prev'] <= 0) & (df_swiss_cleaned['vertical_rate'] > 0), True, False)\n",
    "\n",
    "startpoints = df_swiss_cleaned[df_swiss_cleaned['startpoint'] == True]\n",
    "\n",
    "\n",
    "#df_swiss['onground'] = df_swiss['onground'].astype(int)\n",
    "\n",
    "#arr = df_swiss['altitude'].values\n",
    "##df_swiss.to_csv(\"test.csv\", sep=';')"
   ]
  },
  {
   "cell_type": "code",
   "execution_count": 30,
   "metadata": {
    "scrolled": true
   },
   "outputs": [
    {
     "data": {
      "text/plain": [
       "<matplotlib.axes._subplots.AxesSubplot at 0x11e048e10>"
      ]
     },
     "execution_count": 30,
     "metadata": {},
     "output_type": "execute_result"
    },
    {
     "data": {
      "image/png": "[encoded data removed]",
      "text/plain": [
       "<Figure size 1440x576 with 1 Axes>"
      ]
     },
     "metadata": {},
     "output_type": "display_data"
    }
   ],
   "source": [
    "markers_on = list(startpoints.index.values)\n",
    "df_swiss.plot(x='timestamp', y='altitude', figsize=(20,8), markevery=markers_on, marker='o', markerfacecolor='r')"
   ]
  },
  {
   "cell_type": "markdown",
   "metadata": {},
   "source": [
    "## End approach"
   ]
  },
  {
   "cell_type": "markdown",
   "metadata": {},
   "source": [
    "## Peakdetection approach\n",
    "https://blog.ytotech.com/2015/11/01/findpeaks-in-python/\n",
    "http://nbviewer.jupyter.org/github/demotu/BMC/blob/master/notebooks/DetectPeaks.ipynb\n",
    "Go by finding valleys.\n",
    "\n",
    "Probleme: Findet ersten start nicht."
   ]
  },
  {
   "cell_type": "code",
   "execution_count": 9,
   "metadata": {},
   "outputs": [],
   "source": [
    "#Test Peakdetection\n",
    "from detect_peaks import detect_peaks\n",
    "#4b1881\n",
    "#4b1801\n",
    "\n",
    "df_swiss = df_joined[df_joined.status == 'active']\n",
    "\n",
    "df_swiss = df_swiss[df_swiss['icao24'] == '4b17fd']\n",
    "\n",
    "\n",
    "df_swiss = df_swiss.round({'altitude': 0})\n",
    "df_swiss['timestamp'] = pd.to_datetime(df_swiss['timestamp'], format='%Y-%m-%d %H:%M:%S')\n",
    "#df_swiss = df_swiss[df_swiss['ground_speed'] > 0]\n",
    "#df_swiss = df_swiss[df_swiss['onground'] != 1]\n",
    "\n",
    "#Remove leerwerte\n",
    "df_swiss = df_swiss[df_swiss['altitude'] > 0]\n",
    "\n",
    "# Alle ausreisser weg\n",
    "#df_swiss = df_swiss[df_swiss['altitude'] < 3000]\n",
    "\n",
    "#df_swiss = df_swiss[df_swiss['altitude'] > 1575]\n",
    "#df_swiss['onground'] = df_swiss['onground'].astype(int)\n",
    "\n",
    "arr = df_swiss['altitude'].values\n",
    "#df_swiss.to_csv(\"test.csv\", sep=';')"
   ]
  },
  {
   "cell_type": "code",
   "execution_count": 10,
   "metadata": {
    "scrolled": true
   },
   "outputs": [
    {
     "data": {
      "image/png": "[encoded data removed]",
      "text/plain": [
       "<Figure size 576x288 with 1 Axes>"
      ]
     },
     "metadata": {},
     "output_type": "display_data"
    },
    {
     "data": {
      "text/plain": [
       "array([ 701, 2999, 5514])"
      ]
     },
     "execution_count": 10,
     "metadata": {},
     "output_type": "execute_result"
    }
   ],
   "source": [
    "#cb = np.array(arr)\n",
    "x = arr\n",
    "#indexes = peakutils.indexes(cb, thres=500, min_dist=10)\n",
    "#indexes\n",
    "r = detect_peaks(x, mpd=1500, valley=True, show=True)\n",
    "r\n"
   ]
  },
  {
   "cell_type": "markdown",
   "metadata": {},
   "source": [
    "## Not working approach"
   ]
  },
  {
   "cell_type": "code",
   "execution_count": 80,
   "metadata": {},
   "outputs": [],
   "source": [
    "#TMP\n",
    "#df_swiss = df_swiss[(df_swiss['icao24'] == '4b1881') | (df_swiss['icao24'] == '4b1801')]\n",
    "df_swiss = df_swiss[df_swiss['icao24'] == '4b1881']\n",
    "\n",
    "\n",
    "# Round altitude\n",
    "df_swiss = df_swiss.round({'altitude': 0})\n",
    "\n",
    "# Timestamp to DateTime\n",
    "df_swiss['timestamp'] = pd.to_datetime(df_swiss['timestamp'], format='%Y-%m-%d %H:%M:%S')\n",
    "\n",
    "# Cleanup dataset\n",
    "df_swiss = df_swiss[df_swiss['ground_speed'] > 0]\n",
    "df_swiss = df_swiss[df_swiss['onground'] != 1]\n",
    "df_swiss = df_swiss[df_swiss['altitude'] > 1575]\n",
    "df_swiss['onground'] = df_swiss['onground'].astype(int)\n",
    "#df_swiss = df_swiss[df_swiss['vertical_rate'] >= 0]\n",
    "\n",
    "#df_swiss = df_swiss[df_swiss['altitude'] > 0]"
   ]
  },
  {
   "cell_type": "code",
   "execution_count": 81,
   "metadata": {},
   "outputs": [],
   "source": [
    "def isFirstPoint(row):\n",
    "    # timestamp_prev is empty means, its the first point in the dataset and a startpoint\n",
    "    if pd.isna(row['timestamp_prev']) and row['altitude'] < 2000:\n",
    "      return 1\n",
    "    \n",
    "    if ( row['timestamp'] > row['timestamp_prev'] + datetime.timedelta(seconds=20)) and row['altitude'] < 2000:\n",
    "       return 1\n",
    "    else:\n",
    "       return 0"
   ]
  },
  {
   "cell_type": "markdown",
   "metadata": {},
   "source": [
    "# Ramsch"
   ]
  },
  {
   "cell_type": "code",
   "execution_count": 31,
   "metadata": {},
   "outputs": [],
   "source": [
    "#df_swiss = df_joined[df_joined.status == 'active']\n",
    "#df_swiss.sample()"
   ]
  },
  {
   "cell_type": "code",
   "execution_count": 75,
   "metadata": {},
   "outputs": [],
   "source": [
    "# Create Geometry\n",
    "geometry = [Point(xy) for xy in zip(df_departures.longitude, df_departures.latitude)]\n",
    "geo_df = geopandas.GeoDataFrame(df_departures, crs={'init': 'epsg:4326'}, geometry=geometry)"
   ]
  },
  {
   "cell_type": "code",
   "execution_count": 76,
   "metadata": {},
   "outputs": [],
   "source": [
    "#df_departers.to_csv('test.csv')\n",
    "\n",
    "#Timestamp to string\n",
    "geo_df['timestamp'] = geo_df['timestamp'].astype(str)\n",
    "\n",
    "#Drop bools and others\n",
    "geo_df = geo_df.drop(['alert', 'spi', 'timestamp_prev', 'timesincedeparture'], axis=1)\n",
    "\n",
    "geo_df.to_file(\"qgis/test.shp\")"
   ]
  },
  {
   "cell_type": "code",
   "execution_count": 381,
   "metadata": {},
   "outputs": [
    {
     "name": "stderr",
     "output_type": "stream",
     "text": [
      "/Library/Frameworks/Python.framework/Versions/3.6/lib/python3.6/site-packages/ipykernel_launcher.py:24: SettingWithCopyWarning: \n",
      "A value is trying to be set on a copy of a slice from a DataFrame.\n",
      "Try using .loc[row_indexer,col_indexer] = value instead\n",
      "\n",
      "See the caveats in the documentation: http://pandas.pydata.org/pandas-docs/stable/indexing.html#indexing-view-versus-copy\n",
      "/Library/Frameworks/Python.framework/Versions/3.6/lib/python3.6/site-packages/ipykernel_launcher.py:25: SettingWithCopyWarning: \n",
      "A value is trying to be set on a copy of a slice from a DataFrame.\n",
      "Try using .loc[row_indexer,col_indexer] = value instead\n",
      "\n",
      "See the caveats in the documentation: http://pandas.pydata.org/pandas-docs/stable/indexing.html#indexing-view-versus-copy\n"
     ]
    }
   ],
   "source": [
    "\n",
    "\n",
    "ALT\n",
    "\n",
    "\n",
    "# This script looks for the starting point. One plane could have more than one starting point at a day\n",
    "\"\"\"\n",
    "def isFirstPoint(row):\n",
    "    # timestamp_prev is empty means, its the first point in the dataset and a startpoint\n",
    "    if pd.isna(row['timestamp_prev']):\n",
    "      return 1\n",
    "    \n",
    "    if ( row['timestamp'] > row['timestamp_prev'] + datetime.timedelta(seconds=20)) and row['altitude'] < 2000:\n",
    "       return 1\n",
    "    else:\n",
    "       return 0\n",
    "\n",
    "\n",
    "icao24['timestamp_prev'] = icao24['timestamp'].shift(1)\n",
    "icao24['startpoint'] = icao24.apply(isFirstPoint, axis=1)\n",
    "icao24[icao24['startpoint'] == 1]\n",
    "\"\"\"\n",
    "\n",
    "# Make it easier. Just take the first starting point. Forget all the other departures of this plane\n",
    "icao24 = icao24.reset_index(drop=True)\n",
    "\n",
    "starttime = icao24.at[0, 'timestamp']\n",
    "track = icao24[icao24['timestamp'] < starttime + datetime.timedelta(minutes=1)]\n",
    "track['timesincedeparture'] = track['timestamp'] - starttime\n",
    "track['timesincedeparture_int'] = track['timesincedeparture'].dt.total_seconds()\n",
    "\n",
    "#track = track.set_index('icao24')"
   ]
  },
  {
   "cell_type": "code",
   "execution_count": 283,
   "metadata": {},
   "outputs": [],
   "source": [
    "icao24 = geo_df[geo_df['icao24'] == '4b1801']\n",
    "#icao24.plot()"
   ]
  },
  {
   "cell_type": "code",
   "execution_count": 426,
   "metadata": {},
   "outputs": [
    {
     "data": {
      "text/html": [
       "<div>\n",
       "<style scoped>\n",
       "    .dataframe tbody tr th:only-of-type {\n",
       "        vertical-align: middle;\n",
       "    }\n",
       "\n",
       "    .dataframe tbody tr th {\n",
       "        vertical-align: top;\n",
       "    }\n",
       "\n",
       "    .dataframe thead th {\n",
       "        text-align: right;\n",
       "    }\n",
       "</style>\n",
       "<table border=\"1\" class=\"dataframe\">\n",
       "  <thead>\n",
       "    <tr style=\"text-align: right;\">\n",
       "      <th>icao24</th>\n",
       "      <th>4b1801</th>\n",
       "    </tr>\n",
       "    <tr>\n",
       "      <th>timesincedeparture</th>\n",
       "      <th></th>\n",
       "    </tr>\n",
       "  </thead>\n",
       "  <tbody>\n",
       "    <tr>\n",
       "      <th>00:00:00</th>\n",
       "      <td>1600.0</td>\n",
       "    </tr>\n",
       "    <tr>\n",
       "      <th>00:00:01</th>\n",
       "      <td>1625.0</td>\n",
       "    </tr>\n",
       "    <tr>\n",
       "      <th>00:00:02</th>\n",
       "      <td>1625.0</td>\n",
       "    </tr>\n",
       "    <tr>\n",
       "      <th>00:00:03</th>\n",
       "      <td>1700.0</td>\n",
       "    </tr>\n",
       "    <tr>\n",
       "      <th>00:00:04</th>\n",
       "      <td>1750.0</td>\n",
       "    </tr>\n",
       "  </tbody>\n",
       "</table>\n",
       "</div>"
      ],
      "text/plain": [
       "icao24              4b1801\n",
       "timesincedeparture        \n",
       "00:00:00            1600.0\n",
       "00:00:01            1625.0\n",
       "00:00:02            1625.0\n",
       "00:00:03            1700.0\n",
       "00:00:04            1750.0"
      ]
     },
     "execution_count": 426,
     "metadata": {},
     "output_type": "execute_result"
    }
   ],
   "source": [
    "# Turn axis\n",
    "pivot = track.pivot('timesincedeparture', columns='icao24', values='altitude')\n",
    "\n",
    "pivot.head()\n",
    "#pivot.plot(kind='line')\n",
    "\n",
    "\n"
   ]
  },
  {
   "cell_type": "code",
   "execution_count": 288,
   "metadata": {},
   "outputs": [
    {
     "name": "stderr",
     "output_type": "stream",
     "text": [
      "/Library/Frameworks/Python.framework/Versions/3.6/lib/python3.6/site-packages/ipykernel_launcher.py:2: SettingWithCopyWarning: \n",
      "A value is trying to be set on a copy of a slice from a DataFrame.\n",
      "Try using .loc[row_indexer,col_indexer] = value instead\n",
      "\n",
      "See the caveats in the documentation: http://pandas.pydata.org/pandas-docs/stable/indexing.html#indexing-view-versus-copy\n",
      "  \n"
     ]
    }
   ],
   "source": [
    "#Timestamp to string\n",
    "track['timestamp'] = track['timestamp'].astype(str)\n",
    "\n",
    "#Drop bools and others\n",
    "track = track.drop(['alert', 'spi'], axis=1)\n",
    "\n",
    "#export\n",
    "track.to_file(\"qgis/4b1801_short.shp\")"
   ]
  },
  {
   "cell_type": "code",
   "execution_count": 136,
   "metadata": {},
   "outputs": [
    {
     "data": {
      "text/plain": [
       "<matplotlib.axes._subplots.AxesSubplot at 0x11e9ed4a8>"
      ]
     },
     "execution_count": 136,
     "metadata": {},
     "output_type": "execute_result"
    },
    {
     "data": {
      "image/png": "[encoded data removed]",
      "text/plain": [
       "<Figure size 720x720 with 1 Axes>"
      ]
     },
     "metadata": {},
     "output_type": "display_data"
    }
   ],
   "source": [
    "icao24.plot(figsize=(10,10))"
   ]
  },
  {
   "cell_type": "code",
   "execution_count": null,
   "metadata": {},
   "outputs": [],
   "source": []
  },
  {
   "cell_type": "code",
   "execution_count": null,
   "metadata": {},
   "outputs": [],
   "source": [
    "# Airport Zurich\n",
    "coords = [( 47.4863, 8.4994 ), ( 47.4283, 8.4994 ), ( 47.4283, 8.619 ), ( 47.4863, 8.619 ), ( 47.4863, 8.4994 )]\n",
    "zurich_airport = Polygon(coords)"
   ]
  },
  {
   "cell_type": "code",
   "execution_count": null,
   "metadata": {},
   "outputs": [],
   "source": [
    "df_zurich = geo_df[geo_df.geometry.within(zurich_airport)]"
   ]
  },
  {
   "cell_type": "code",
   "execution_count": null,
   "metadata": {
    "scrolled": true
   },
   "outputs": [],
   "source": [
    "df_zurich.plot(figsize=(12, 12),markersize=1, alpha=0.4)"
   ]
  }
 ],
 "metadata": {
  "kernelspec": {
   "display_name": "Python 3",
   "language": "python",
   "name": "python3"
  },
  "language_info": {
   "codemirror_mode": {
    "name": "ipython",
    "version": 3
   },
   "file_extension": ".py",
   "mimetype": "text/x-python",
   "name": "python",
   "nbconvert_exporter": "python",
   "pygments_lexer": "ipython3",
   "version": "3.6.5"
  }
 },
 "nbformat": 4,
 "nbformat_minor": 2
}
