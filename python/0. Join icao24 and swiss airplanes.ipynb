{
 "cells": [
  {
   "cell_type": "markdown",
   "metadata": {},
   "source": [
    "# Create Plane File\n",
    "Kreiert eine Datei mit allen Flugzeugen der Swiss inklusive sowie ob Langstrecke (longrange) oder nicht\n",
    "\n",
    "## Import Libraries"
   ]
  },
  {
   "cell_type": "code",
   "execution_count": 4,
   "metadata": {},
   "outputs": [],
   "source": [
    "import pandas as pd"
   ]
  },
  {
   "cell_type": "markdown",
   "metadata": {},
   "source": [
    "## Import Files"
   ]
  },
  {
   "cell_type": "code",
   "execution_count": 19,
   "metadata": {},
   "outputs": [],
   "source": [
    "df_planes = pd.read_csv('../data_raw/swiss_aircrafts.csv', sep=';')\n",
    "df_registrations = pd.read_csv('../data_raw/ICAO 24 Bit - Mode S Alle LFZ.csv', sep=';')\n",
    "df_types = pd.read_csv('../data_raw/aircraft_type.csv', sep=';')"
   ]
  },
  {
   "cell_type": "code",
   "execution_count": 20,
   "metadata": {
    "scrolled": true
   },
   "outputs": [],
   "source": [
    "#Set indexes\n",
    "df_registrations = df_registrations.set_index('Registration Mark')\n",
    "df_types = df_types.set_index('type')"
   ]
  },
  {
   "cell_type": "code",
   "execution_count": 21,
   "metadata": {},
   "outputs": [],
   "source": [
    "# Join Planes and Registration\n",
    "df_joined = df_planes.join(df_registrations, on='Registration')\n",
    "\n",
    "# Join df_joined and df_types\n",
    "df_joined = df_joined.join(df_types, on='Type')"
   ]
  },
  {
   "cell_type": "code",
   "execution_count": 22,
   "metadata": {},
   "outputs": [],
   "source": [
    "# Remove Columns\n",
    "df_joined = df_joined.drop(['Binary', 'Octal', 'ICAO 24-bit Address'], axis=1)\n",
    "\n",
    "# Rename Column\n",
    "df_joined = df_joined.rename(columns={'Hexadecimal': 'icao24'})\n",
    "\n",
    "# Lower Case Columns icao24\n",
    "df_joined['icao24'] = df_joined['icao24'].str.lower()\n",
    "\n",
    "# Save to CSV\n",
    "df_joined.to_csv('../data_generated/swiss_aircrafts.csv', index=False)"
   ]
  },
  {
   "cell_type": "code",
   "execution_count": null,
   "metadata": {},
   "outputs": [],
   "source": []
  }
 ],
 "metadata": {
  "kernelspec": {
   "display_name": "Python 3",
   "language": "python",
   "name": "python3"
  },
  "language_info": {
   "codemirror_mode": {
    "name": "ipython",
    "version": 3
   },
   "file_extension": ".py",
   "mimetype": "text/x-python",
   "name": "python",
   "nbconvert_exporter": "python",
   "pygments_lexer": "ipython3",
   "version": "3.6.5"
  }
 },
 "nbformat": 4,
 "nbformat_minor": 2
}
