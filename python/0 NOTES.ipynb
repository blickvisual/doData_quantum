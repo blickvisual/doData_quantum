{
 "cells": [
  {
   "cell_type": "markdown",
   "metadata": {},
   "source": [
    "# Notizen\n",
    "Visualisierung vom ganzen Tag. Welches Swiss-Flieger?  \n",
    "Wie oft startet maschine am Tag?  \n",
    "Abflugswellen  \n",
    "Wann starten langzeitflugis\n",
    "\n",
    "# Vortrag\n",
    "* Simon, \"Junge disziplin\"? No!! Das machen wir, etc.\n",
    "* Historischer Aufwisch\n",
    "* Das macht Priska, etc\n",
    "* Manchmal gehts mit herkömlichen mitteln nicht mehr -> back to sh\n",
    "* Flugi.\n",
    "* Openskynetwork, musste datenschaufeln\n",
    "* Probleme beim schaufeln, umwandeln, etc\n",
    "* SVG bringt PC zum Absturz\n",
    "* Datenjournalismus für zukunft. Beispiele\n",
    "\n",
    "* Praktische Übungen"
   ]
  },
  {
   "cell_type": "code",
   "execution_count": null,
   "metadata": {},
   "outputs": [],
   "source": []
  },
  {
   "cell_type": "code",
   "execution_count": null,
   "metadata": {},
   "outputs": [],
   "source": []
  }
 ],
 "metadata": {
  "kernelspec": {
   "display_name": "Python 3",
   "language": "python",
   "name": "python3"
  },
  "language_info": {
   "codemirror_mode": {
    "name": "ipython",
    "version": 3
   },
   "file_extension": ".py",
   "mimetype": "text/x-python",
   "name": "python",
   "nbconvert_exporter": "python",
   "pygments_lexer": "ipython3",
   "version": "3.6.5"
  }
 },
 "nbformat": 4,
 "nbformat_minor": 2
}
