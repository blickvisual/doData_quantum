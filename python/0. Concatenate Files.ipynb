{
 "cells": [
  {
   "cell_type": "markdown",
   "metadata": {},
   "source": [
    "# 0. Concatenate Files\n",
    "This script combines the individual data files. It would be possible to do this with pandas, but the filestream is faster."
   ]
  },
  {
   "cell_type": "code",
   "execution_count": 1,
   "metadata": {},
   "outputs": [],
   "source": [
    "import glob"
   ]
  },
  {
   "cell_type": "code",
   "execution_count": 2,
   "metadata": {},
   "outputs": [
    {
     "name": "stdout",
     "output_type": "stream",
     "text": [
      "../data_raw/20180521_splitted\\20180521_0.csv\n",
      "../data_raw/20180521_splitted\\20180521_1.csv\n",
      "../data_raw/20180521_splitted\\20180521_2.csv\n",
      "../data_raw/20180521_splitted\\20180521_3.csv\n",
      "../data_raw/20180521_splitted\\20180521_4.csv\n",
      "../data_raw/20180521_splitted\\20180521_5.csv\n",
      "../data_raw/20180521_splitted\\20180521_6.csv\n",
      "../data_raw/20180521_splitted\\20180521_7.csv\n",
      "../data_raw/20180521_splitted\\20180521_8.csv\n",
      "../data_raw/20180521_splitted\\20180521_9.csv\n",
      "Files combined\n"
     ]
    }
   ],
   "source": [
    "data_path = '../data_raw/20180521_splitted/*.csv'\n",
    "outfile_path = '../data_generated/20180521.csv'\n",
    "\n",
    "csv_list = glob.glob(data_path)\n",
    "\n",
    "firstfile = True\n",
    "with open(outfile_path, 'w') as outfile:\n",
    "    for fname in csv_list:\n",
    "        with open(fname) as infile:\n",
    "            print(fname)\n",
    "            i = 0\n",
    "            for line in infile:\n",
    "                if firstfile or ( not firstfile and i > 0):\n",
    "                    outfile.write(line)\n",
    "                i += 1\n",
    "\n",
    "            firstfile = False\n",
    "\n",
    "print(\"Files combined\")"
   ]
  },
  {
   "cell_type": "code",
   "execution_count": null,
   "metadata": {},
   "outputs": [],
   "source": []
  }
 ],
 "metadata": {
  "kernelspec": {
   "display_name": "Python 3",
   "language": "python",
   "name": "python3"
  },
  "language_info": {
   "codemirror_mode": {
    "name": "ipython",
    "version": 3
   },
   "file_extension": ".py",
   "mimetype": "text/x-python",
   "name": "python",
   "nbconvert_exporter": "python",
   "pygments_lexer": "ipython3",
   "version": "3.6.5"
  }
 },
 "nbformat": 4,
 "nbformat_minor": 2
}
