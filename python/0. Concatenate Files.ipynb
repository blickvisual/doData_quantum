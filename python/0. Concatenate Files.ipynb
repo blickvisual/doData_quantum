{
 "cells": [
  {
   "cell_type": "markdown",
   "metadata": {},
   "source": [
    "# 0. Concatenate Files\n",
    "Dieses Script fügt die einzelnen CSV zusammen. Ginge auch mit Pandas. Aus Performence-Gründen wird aber direkt mit dem Filestream gearbeitet"
   ]
  },
  {
   "cell_type": "code",
   "execution_count": 1,
   "metadata": {},
   "outputs": [
    {
     "name": "stdout",
     "output_type": "stream",
     "text": [
      "20180521_0.csv\n",
      "20180521_1.csv\n",
      "20180521_2.csv\n",
      "20180521_3.csv\n",
      "20180521_4.csv\n",
      "20180521_5.csv\n",
      "20180521_6.csv\n",
      "20180521_7.csv\n",
      "20180521_8.csv\n",
      "20180521_9.csv\n",
      "Files combined\n"
     ]
    }
   ],
   "source": [
    "cPathSelection = '../data_raw/20180521_splitted/'\n",
    "\n",
    "#direkt\n",
    "filenames = ['20180521_0.csv',\n",
    "             '20180521_1.csv',\n",
    "             '20180521_2.csv',\n",
    "             '20180521_3.csv',\n",
    "             '20180521_4.csv',\n",
    "             '20180521_5.csv',\n",
    "             '20180521_6.csv',\n",
    "             '20180521_7.csv',\n",
    "             '20180521_8.csv',\n",
    "             '20180521_9.csv'\n",
    "            ]\n",
    "\n",
    "\n",
    "outfilepath = '../data_generated/20180521.csv'\n",
    "firstfile = True\n",
    "with open(outfilepath, 'w') as outfile:\n",
    "    for fname in filenames:\n",
    "        with open(cPathSelection + fname) as infile:\n",
    "            print(fname)\n",
    "            i = 0\n",
    "            for line in infile:\n",
    "                if firstfile or ( not firstfile and i > 0):\n",
    "                    outfile.write(line)\n",
    "                i += 1\n",
    "\n",
    "            firstfile = False\n",
    "print(\"Files combined\")"
   ]
  },
  {
   "cell_type": "code",
   "execution_count": null,
   "metadata": {},
   "outputs": [],
   "source": []
  }
 ],
 "metadata": {
  "kernelspec": {
   "display_name": "Python 3",
   "language": "python",
   "name": "python3"
  },
  "language_info": {
   "codemirror_mode": {
    "name": "ipython",
    "version": 3
   },
   "file_extension": ".py",
   "mimetype": "text/x-python",
   "name": "python",
   "nbconvert_exporter": "python",
   "pygments_lexer": "ipython3",
   "version": "3.6.5"
  }
 },
 "nbformat": 4,
 "nbformat_minor": 2
}
