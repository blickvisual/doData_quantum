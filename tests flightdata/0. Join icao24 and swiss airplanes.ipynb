{
 "cells": [
  {
   "cell_type": "markdown",
   "metadata": {},
   "source": [
    "## Create Plane File\n",
    "Kreiert eine Datei mit allen Flugzeugen der Swiss inklusive icao24"
   ]
  },
  {
   "cell_type": "code",
   "execution_count": 38,
   "metadata": {},
   "outputs": [],
   "source": [
    "import pandas as pd"
   ]
  },
  {
   "cell_type": "code",
   "execution_count": 39,
   "metadata": {},
   "outputs": [],
   "source": [
    "df_planes = pd.read_csv('../data/swiss_aircrafts.csv', sep=';')\n",
    "df_registrations = pd.read_csv('../data/ICAO 24 Bit - Mode S Alle LFZ.csv', sep=';')"
   ]
  },
  {
   "cell_type": "code",
   "execution_count": 40,
   "metadata": {
    "scrolled": true
   },
   "outputs": [],
   "source": [
    "#Set index to \"Registration\"\n",
    "df_registrations = df_registrations.set_index('Registration Mark')"
   ]
  },
  {
   "cell_type": "code",
   "execution_count": 41,
   "metadata": {},
   "outputs": [],
   "source": [
    "df_joined = df_planes.join(df_registrations, on='Registration')"
   ]
  },
  {
   "cell_type": "code",
   "execution_count": 42,
   "metadata": {},
   "outputs": [],
   "source": [
    "# Remove Columns\n",
    "df_joined = df_joined.drop(['Binary', 'Octal', 'ICAO 24-bit Address'], axis=1)\n",
    "\n",
    "# Rename Column\n",
    "df_joined = df_joined.rename(columns={'Hexadecimal': 'icao24'})\n",
    "\n",
    "# Lower Case Columns icao24\n",
    "df_joined['icao24'] = df_joined['icao24'].str.lower()\n",
    "\n",
    "# Save to CSV\n",
    "df_joined.to_csv('data/swiss_airplanes.csv', index=False)"
   ]
  },
  {
   "cell_type": "code",
   "execution_count": null,
   "metadata": {},
   "outputs": [],
   "source": []
  }
 ],
 "metadata": {
  "kernelspec": {
   "display_name": "Python 3",
   "language": "python",
   "name": "python3"
  },
  "language_info": {
   "codemirror_mode": {
    "name": "ipython",
    "version": 3
   },
   "file_extension": ".py",
   "mimetype": "text/x-python",
   "name": "python",
   "nbconvert_exporter": "python",
   "pygments_lexer": "ipython3",
   "version": "3.6.5"
  }
 },
 "nbformat": 4,
 "nbformat_minor": 2
}
