{
 "cells": [
  {
   "cell_type": "markdown",
   "metadata": {},
   "source": [
    "# 1. sampling\n",
    "Dieses Script nimmt nur jeden zehnten Eintrag aus dem CSV und speichert ein neues CSV unter `data/20180521_sampled.csv`"
   ]
  },
  {
   "cell_type": "code",
   "execution_count": 1,
   "metadata": {},
   "outputs": [
    {
     "name": "stdout",
     "output_type": "stream",
     "text": [
      "Sampled\n"
     ]
    }
   ],
   "source": [
    "fIn = 'data/20180521.csv'\n",
    "fOut = 'data/20180521_sampled.csv'\n",
    "\n",
    "with open(fOut, 'w') as outfile:\n",
    "    with open(fIn) as infile:\n",
    "        i = 0\n",
    "        for line in infile:\n",
    "            if i % 10 == 0:\n",
    "                outfile.write(line)\n",
    "            i += 1\n",
    "\n",
    "print(\"Sampled\")"
   ]
  },
  {
   "cell_type": "code",
   "execution_count": null,
   "metadata": {},
   "outputs": [],
   "source": []
  }
 ],
 "metadata": {
  "kernelspec": {
   "display_name": "Python 3",
   "language": "python",
   "name": "python3"
  },
  "language_info": {
   "codemirror_mode": {
    "name": "ipython",
    "version": 3
   },
   "file_extension": ".py",
   "mimetype": "text/x-python",
   "name": "python",
   "nbconvert_exporter": "python",
   "pygments_lexer": "ipython3",
   "version": "3.6.5"
  }
 },
 "nbformat": 4,
 "nbformat_minor": 2
}
