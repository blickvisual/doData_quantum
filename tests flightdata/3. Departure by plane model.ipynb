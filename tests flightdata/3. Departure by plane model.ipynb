{
 "cells": [
  {
   "cell_type": "markdown",
   "metadata": {},
   "source": [
    "# Departure by plane model\n"
   ]
  },
  {
   "cell_type": "markdown",
   "metadata": {},
   "source": [
    "## Importing\n",
    "Importing libraries. Setting `%matplotlib inline` to plott the graph inside the notebook"
   ]
  },
  {
   "cell_type": "code",
   "execution_count": 21,
   "metadata": {},
   "outputs": [],
   "source": [
    "%matplotlib inline\n",
    "\n",
    "import pandas as pd\n",
    "import geopandas\n",
    "from shapely.geometry import Point, Polygon\n",
    "import fiona"
   ]
  },
  {
   "cell_type": "markdown",
   "metadata": {},
   "source": [
    "Importing CSV"
   ]
  },
  {
   "cell_type": "code",
   "execution_count": 22,
   "metadata": {},
   "outputs": [],
   "source": [
    "# Import Points\n",
    "df_points = pd.read_csv('data/20180521_sampled.csv')\n",
    "\n",
    "#Import Plane list\n",
    "df_planes = pd.read_csv('data/swiss_airplanes.csv')"
   ]
  },
  {
   "cell_type": "markdown",
   "metadata": {},
   "source": [
    "## Join points and airplanes"
   ]
  },
  {
   "cell_type": "code",
   "execution_count": 24,
   "metadata": {},
   "outputs": [],
   "source": [
    "# set index\n",
    "df_planes = df_planes.set_index('icao24')\n",
    "\n",
    "# Join\n",
    "df_joined = df_points.join(df_planes, on='icao24')"
   ]
  },
  {
   "cell_type": "code",
   "execution_count": 27,
   "metadata": {},
   "outputs": [],
   "source": [
    "# Only take swiss planes\n",
    "df_swiss = df_joined[df_joined.status == 'active']"
   ]
  },
  {
   "cell_type": "code",
   "execution_count": 17,
   "metadata": {},
   "outputs": [
    {
     "data": {
      "text/html": [
       "<div>\n",
       "<style scoped>\n",
       "    .dataframe tbody tr th:only-of-type {\n",
       "        vertical-align: middle;\n",
       "    }\n",
       "\n",
       "    .dataframe tbody tr th {\n",
       "        vertical-align: top;\n",
       "    }\n",
       "\n",
       "    .dataframe thead th {\n",
       "        text-align: right;\n",
       "    }\n",
       "</style>\n",
       "<table border=\"1\" class=\"dataframe\">\n",
       "  <thead>\n",
       "    <tr style=\"text-align: right;\">\n",
       "      <th></th>\n",
       "      <th>timestamp</th>\n",
       "      <th>icao24</th>\n",
       "      <th>latitude</th>\n",
       "      <th>longitude</th>\n",
       "      <th>ground_speed</th>\n",
       "      <th>track</th>\n",
       "      <th>vertical_rate</th>\n",
       "      <th>callsign</th>\n",
       "      <th>onground</th>\n",
       "      <th>alert</th>\n",
       "      <th>spi</th>\n",
       "      <th>squawk</th>\n",
       "      <th>baro_altitude</th>\n",
       "      <th>altitude</th>\n",
       "      <th>last_position</th>\n",
       "      <th>hour</th>\n",
       "      <th>geometry</th>\n",
       "    </tr>\n",
       "  </thead>\n",
       "  <tbody>\n",
       "    <tr>\n",
       "      <th>0</th>\n",
       "      <td>2018-05-21 00:00:02</td>\n",
       "      <td>4b1801</td>\n",
       "      <td>47.441299</td>\n",
       "      <td>8.561869</td>\n",
       "      <td>NaN</td>\n",
       "      <td>NaN</td>\n",
       "      <td>NaN</td>\n",
       "      <td>SWR112W</td>\n",
       "      <td>True</td>\n",
       "      <td>False</td>\n",
       "      <td>False</td>\n",
       "      <td>3072.0</td>\n",
       "      <td>NaN</td>\n",
       "      <td>NaN</td>\n",
       "      <td>2018-05-20 23:43:24.733000</td>\n",
       "      <td>1526853600</td>\n",
       "      <td>POINT (8.561868667602539 47.44129943847656)</td>\n",
       "    </tr>\n",
       "    <tr>\n",
       "      <th>1</th>\n",
       "      <td>2018-05-21 00:00:03</td>\n",
       "      <td>4ca640</td>\n",
       "      <td>47.131580</td>\n",
       "      <td>8.040020</td>\n",
       "      <td>450.404984</td>\n",
       "      <td>322.850241</td>\n",
       "      <td>0.0</td>\n",
       "      <td>EIN417</td>\n",
       "      <td>False</td>\n",
       "      <td>False</td>\n",
       "      <td>False</td>\n",
       "      <td>7532.0</td>\n",
       "      <td>35950.0</td>\n",
       "      <td>36325.0</td>\n",
       "      <td>2018-05-21 00:00:02.350000</td>\n",
       "      <td>1526853600</td>\n",
       "      <td>POINT (8.040020282451923 47.1315804174391)</td>\n",
       "    </tr>\n",
       "    <tr>\n",
       "      <th>2</th>\n",
       "      <td>2018-05-21 00:00:04</td>\n",
       "      <td>4ca640</td>\n",
       "      <td>47.131580</td>\n",
       "      <td>8.040020</td>\n",
       "      <td>450.404984</td>\n",
       "      <td>322.850241</td>\n",
       "      <td>0.0</td>\n",
       "      <td>EIN417</td>\n",
       "      <td>False</td>\n",
       "      <td>False</td>\n",
       "      <td>False</td>\n",
       "      <td>7532.0</td>\n",
       "      <td>35950.0</td>\n",
       "      <td>36325.0</td>\n",
       "      <td>2018-05-21 00:00:02.350000</td>\n",
       "      <td>1526853600</td>\n",
       "      <td>POINT (8.040020282451923 47.1315804174391)</td>\n",
       "    </tr>\n",
       "    <tr>\n",
       "      <th>3</th>\n",
       "      <td>2018-05-21 00:00:05</td>\n",
       "      <td>4b1801</td>\n",
       "      <td>47.441299</td>\n",
       "      <td>8.561869</td>\n",
       "      <td>NaN</td>\n",
       "      <td>NaN</td>\n",
       "      <td>NaN</td>\n",
       "      <td>SWR112W</td>\n",
       "      <td>True</td>\n",
       "      <td>False</td>\n",
       "      <td>False</td>\n",
       "      <td>3072.0</td>\n",
       "      <td>NaN</td>\n",
       "      <td>NaN</td>\n",
       "      <td>2018-05-20 23:43:24.733000</td>\n",
       "      <td>1526853600</td>\n",
       "      <td>POINT (8.561868667602539 47.44129943847656)</td>\n",
       "    </tr>\n",
       "    <tr>\n",
       "      <th>4</th>\n",
       "      <td>2018-05-21 00:00:06</td>\n",
       "      <td>3c09f4</td>\n",
       "      <td>47.103975</td>\n",
       "      <td>7.796208</td>\n",
       "      <td>465.690482</td>\n",
       "      <td>35.737912</td>\n",
       "      <td>0.0</td>\n",
       "      <td>GMI54HM</td>\n",
       "      <td>False</td>\n",
       "      <td>False</td>\n",
       "      <td>False</td>\n",
       "      <td>2315.0</td>\n",
       "      <td>38050.0</td>\n",
       "      <td>38325.0</td>\n",
       "      <td>2018-05-21 00:00:05.989000</td>\n",
       "      <td>1526853600</td>\n",
       "      <td>POINT (7.796208308293267 47.10397494041313)</td>\n",
       "    </tr>\n",
       "  </tbody>\n",
       "</table>\n",
       "</div>"
      ],
      "text/plain": [
       "             timestamp  icao24   latitude  longitude  ground_speed  \\\n",
       "0  2018-05-21 00:00:02  4b1801  47.441299   8.561869           NaN   \n",
       "1  2018-05-21 00:00:03  4ca640  47.131580   8.040020    450.404984   \n",
       "2  2018-05-21 00:00:04  4ca640  47.131580   8.040020    450.404984   \n",
       "3  2018-05-21 00:00:05  4b1801  47.441299   8.561869           NaN   \n",
       "4  2018-05-21 00:00:06  3c09f4  47.103975   7.796208    465.690482   \n",
       "\n",
       "        track  vertical_rate callsign  onground  alert    spi  squawk  \\\n",
       "0         NaN            NaN  SWR112W      True  False  False  3072.0   \n",
       "1  322.850241            0.0   EIN417     False  False  False  7532.0   \n",
       "2  322.850241            0.0   EIN417     False  False  False  7532.0   \n",
       "3         NaN            NaN  SWR112W      True  False  False  3072.0   \n",
       "4   35.737912            0.0  GMI54HM     False  False  False  2315.0   \n",
       "\n",
       "   baro_altitude  altitude               last_position        hour  \\\n",
       "0            NaN       NaN  2018-05-20 23:43:24.733000  1526853600   \n",
       "1        35950.0   36325.0  2018-05-21 00:00:02.350000  1526853600   \n",
       "2        35950.0   36325.0  2018-05-21 00:00:02.350000  1526853600   \n",
       "3            NaN       NaN  2018-05-20 23:43:24.733000  1526853600   \n",
       "4        38050.0   38325.0  2018-05-21 00:00:05.989000  1526853600   \n",
       "\n",
       "                                      geometry  \n",
       "0  POINT (8.561868667602539 47.44129943847656)  \n",
       "1   POINT (8.040020282451923 47.1315804174391)  \n",
       "2   POINT (8.040020282451923 47.1315804174391)  \n",
       "3  POINT (8.561868667602539 47.44129943847656)  \n",
       "4  POINT (7.796208308293267 47.10397494041313)  "
      ]
     },
     "execution_count": 17,
     "metadata": {},
     "output_type": "execute_result"
    }
   ],
   "source": [
    "\n",
    "\n",
    "Hier weitermachen\n",
    "\n",
    "\n",
    "df_points.head()"
   ]
  },
  {
   "cell_type": "code",
   "execution_count": 7,
   "metadata": {},
   "outputs": [],
   "source": [
    "geometry = [Point(xy) for xy in zip(df.latitude, df.longitude)]\n",
    "geo_df = geopandas.GeoDataFrame(df, crs={'init': 'epsg:4326'}, geometry=geometry)"
   ]
  },
  {
   "cell_type": "code",
   "execution_count": null,
   "metadata": {},
   "outputs": [],
   "source": [
    "# Airport Zurich\n",
    "coords = [( 47.4863, 8.4994 ), ( 47.4283, 8.4994 ), ( 47.4283, 8.619 ), ( 47.4863, 8.619 ), ( 47.4863, 8.4994 )]\n",
    "zurich_airport = Polygon(coords)"
   ]
  },
  {
   "cell_type": "code",
   "execution_count": null,
   "metadata": {},
   "outputs": [],
   "source": [
    "df_zurich = geo_df[geo_df.geometry.within(zurich_airport)]"
   ]
  },
  {
   "cell_type": "code",
   "execution_count": null,
   "metadata": {
    "scrolled": true
   },
   "outputs": [],
   "source": [
    "df_zurich.plot(figsize=(12, 12),markersize=1, alpha=0.4)"
   ]
  },
  {
   "cell_type": "markdown",
   "metadata": {},
   "source": [
    "## Terminal\n",
    "Zoom to a terminal - just for fun"
   ]
  },
  {
   "cell_type": "markdown",
   "metadata": {},
   "source": [
    "Again, create a polygone"
   ]
  },
  {
   "cell_type": "code",
   "execution_count": null,
   "metadata": {},
   "outputs": [],
   "source": [
    "# Terminal\n",
    "coords = [( 47.4636, 8.5482 ), ( 47.4582, 8.5482 ), ( 47.4582, 8.5625 ), ( 47.4636, 8.5625 ), ( 47.4636, 8.5482 )]\n",
    "airport_terminal = Polygon(coords)"
   ]
  },
  {
   "cell_type": "markdown",
   "metadata": {},
   "source": [
    "Just select dots on the ground."
   ]
  },
  {
   "cell_type": "code",
   "execution_count": null,
   "metadata": {},
   "outputs": [],
   "source": [
    "geo_onground = geo_df[geo_df['onground'] == True]"
   ]
  },
  {
   "cell_type": "markdown",
   "metadata": {},
   "source": [
    "Select points inside polygon and plott"
   ]
  },
  {
   "cell_type": "code",
   "execution_count": null,
   "metadata": {},
   "outputs": [],
   "source": [
    "df_terminal = geo_onground[geo_onground.geometry.within(airport_terminal)]\n",
    "df_terminal.plot(figsize=(12, 12), markersize=1)"
   ]
  }
 ],
 "metadata": {
  "kernelspec": {
   "display_name": "Python 3",
   "language": "python",
   "name": "python3"
  },
  "language_info": {
   "codemirror_mode": {
    "name": "ipython",
    "version": 3
   },
   "file_extension": ".py",
   "mimetype": "text/x-python",
   "name": "python",
   "nbconvert_exporter": "python",
   "pygments_lexer": "ipython3",
   "version": "3.6.5"
  }
 },
 "nbformat": 4,
 "nbformat_minor": 2
}
