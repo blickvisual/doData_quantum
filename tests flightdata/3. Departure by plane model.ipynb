{
 "cells": [
  {
   "cell_type": "markdown",
   "metadata": {},
   "source": [
    "# Departure by plane model\n"
   ]
  },
  {
   "cell_type": "markdown",
   "metadata": {},
   "source": [
    "## Importing\n",
    "Importing libraries. Setting `%matplotlib inline` to plott the graph inside the notebook"
   ]
  },
  {
   "cell_type": "code",
   "execution_count": 164,
   "metadata": {},
   "outputs": [],
   "source": [
    "%matplotlib inline\n",
    "\n",
    "import pandas as pd\n",
    "import geopandas\n",
    "from shapely.geometry import Point, Polygon\n",
    "import fiona\n",
    "import datetime"
   ]
  },
  {
   "cell_type": "markdown",
   "metadata": {},
   "source": [
    "Importing CSV"
   ]
  },
  {
   "cell_type": "code",
   "execution_count": 80,
   "metadata": {},
   "outputs": [],
   "source": [
    "# Import Points\n",
    "#df_points = pd.read_csv('data/20180521_sampled.csv')\n",
    "df_points = pd.read_csv('data/20180521.csv')"
   ]
  },
  {
   "cell_type": "code",
   "execution_count": 437,
   "metadata": {},
   "outputs": [],
   "source": [
    "#Import Plane list\n",
    "df_planes = pd.read_csv('data/swiss_airplanes.csv')"
   ]
  },
  {
   "cell_type": "markdown",
   "metadata": {},
   "source": [
    "## Join points and airplanes"
   ]
  },
  {
   "cell_type": "code",
   "execution_count": 438,
   "metadata": {},
   "outputs": [],
   "source": [
    "# set index\n",
    "df_planes = df_planes.set_index('icao24')\n",
    "\n",
    "# Join\n",
    "df_joined = df_points.join(df_planes, on='icao24')"
   ]
  },
  {
   "cell_type": "code",
   "execution_count": 439,
   "metadata": {},
   "outputs": [],
   "source": [
    "# Only take swiss planes\n",
    "df_swiss = df_joined[df_joined.status == 'active']"
   ]
  },
  {
   "cell_type": "code",
   "execution_count": 458,
   "metadata": {},
   "outputs": [],
   "source": [
    "#TMP\n",
    "df_swiss = df_swiss[(df_swiss['icao24'] == '4b1881') | (df_swiss['icao24'] == '4b1801')]\n",
    "\n",
    "\n",
    "# Round altitude\n",
    "df_swiss = df_swiss.round({'altitude': 0})\n",
    "\n",
    "# Timestamp to DateTime\n",
    "df_swiss['timestamp'] = pd.to_datetime(df_swiss['timestamp'], format='%Y-%m-%d %H:%M:%S')\n",
    "\n",
    "# Cleanup dataset\n",
    "df_swiss = df_swiss[df_swiss['ground_speed'] > 0]\n",
    "df_swiss = df_swiss[df_swiss['onground'] != 1]\n",
    "df_swiss = df_swiss[df_swiss['altitude'] > 1575]\n",
    "df_swiss['onground'] = df_swiss['onground'].astype(int)\n",
    "#df_swiss = df_swiss[df_swiss['vertical_rate'] >= 0]\n",
    "\n",
    "#df_swiss = df_swiss[df_swiss['altitude'] > 0]"
   ]
  },
  {
   "cell_type": "code",
   "execution_count": 465,
   "metadata": {},
   "outputs": [
    {
     "name": "stdout",
     "output_type": "stream",
     "text": [
      "x\n",
      "x\n"
     ]
    }
   ],
   "source": [
    "# Set Multiindex\n",
    "indexed = df_swiss.set_index(['icao24', 'timestamp'])\n",
    "\n",
    "# Loop all icao24 (index)\n",
    "for date in indexed.index.get_level_values('icao24').unique():\n",
    "    print(\"x\")\n",
    "    #print(indexed.loc[date])"
   ]
  },
  {
   "cell_type": "code",
   "execution_count": 381,
   "metadata": {},
   "outputs": [
    {
     "name": "stderr",
     "output_type": "stream",
     "text": [
      "/Library/Frameworks/Python.framework/Versions/3.6/lib/python3.6/site-packages/ipykernel_launcher.py:24: SettingWithCopyWarning: \n",
      "A value is trying to be set on a copy of a slice from a DataFrame.\n",
      "Try using .loc[row_indexer,col_indexer] = value instead\n",
      "\n",
      "See the caveats in the documentation: http://pandas.pydata.org/pandas-docs/stable/indexing.html#indexing-view-versus-copy\n",
      "/Library/Frameworks/Python.framework/Versions/3.6/lib/python3.6/site-packages/ipykernel_launcher.py:25: SettingWithCopyWarning: \n",
      "A value is trying to be set on a copy of a slice from a DataFrame.\n",
      "Try using .loc[row_indexer,col_indexer] = value instead\n",
      "\n",
      "See the caveats in the documentation: http://pandas.pydata.org/pandas-docs/stable/indexing.html#indexing-view-versus-copy\n"
     ]
    }
   ],
   "source": [
    "# This script looks for the starting point. One plane could have more than one starting point at a day\n",
    "\"\"\"\n",
    "def isFirstPoint(row):\n",
    "    # timestamp_prev is empty means, its the first point in the dataset and a startpoint\n",
    "    if pd.isna(row['timestamp_prev']):\n",
    "      return 1\n",
    "    \n",
    "    if ( row['timestamp'] > row['timestamp_prev'] + datetime.timedelta(seconds=20)) and row['altitude'] < 2000:\n",
    "       return 1\n",
    "    else:\n",
    "       return 0\n",
    "    \n",
    "\n",
    "icao24['timestamp_prev'] = icao24['timestamp'].shift(1)\n",
    "icao24['startpoint'] = icao24.apply(isFirstPoint, axis=1)\n",
    "icao24[icao24['startpoint'] == 1]\n",
    "\"\"\"\n",
    "\n",
    "# Make it easier. Just take the first starting point. Forget all the other departures of this plane\n",
    "icao24 = icao24.reset_index(drop=True)\n",
    "\n",
    "starttime = icao24.at[0, 'timestamp']\n",
    "track = icao24[icao24['timestamp'] < starttime + datetime.timedelta(minutes=1)]\n",
    "track['timesincedeparture'] = track['timestamp'] - starttime\n",
    "track['timesincedeparture_int'] = track['timesincedeparture'].dt.total_seconds()\n",
    "\n",
    "#track = track.set_index('icao24')"
   ]
  },
  {
   "cell_type": "code",
   "execution_count": 430,
   "metadata": {},
   "outputs": [],
   "source": [
    "# Create Geometry\n",
    "geometry = [Point(xy) for xy in zip(df_swiss.longitude, df_swiss.latitude)]\n",
    "geo_df = geopandas.GeoDataFrame(df_swiss, crs={'init': 'epsg:4326'}, geometry=geometry)"
   ]
  },
  {
   "cell_type": "code",
   "execution_count": 283,
   "metadata": {},
   "outputs": [],
   "source": [
    "icao24 = geo_df[geo_df['icao24'] == '4b1801']\n",
    "#icao24.plot()"
   ]
  },
  {
   "cell_type": "code",
   "execution_count": 426,
   "metadata": {},
   "outputs": [
    {
     "data": {
      "text/html": [
       "<div>\n",
       "<style scoped>\n",
       "    .dataframe tbody tr th:only-of-type {\n",
       "        vertical-align: middle;\n",
       "    }\n",
       "\n",
       "    .dataframe tbody tr th {\n",
       "        vertical-align: top;\n",
       "    }\n",
       "\n",
       "    .dataframe thead th {\n",
       "        text-align: right;\n",
       "    }\n",
       "</style>\n",
       "<table border=\"1\" class=\"dataframe\">\n",
       "  <thead>\n",
       "    <tr style=\"text-align: right;\">\n",
       "      <th>icao24</th>\n",
       "      <th>4b1801</th>\n",
       "    </tr>\n",
       "    <tr>\n",
       "      <th>timesincedeparture</th>\n",
       "      <th></th>\n",
       "    </tr>\n",
       "  </thead>\n",
       "  <tbody>\n",
       "    <tr>\n",
       "      <th>00:00:00</th>\n",
       "      <td>1600.0</td>\n",
       "    </tr>\n",
       "    <tr>\n",
       "      <th>00:00:01</th>\n",
       "      <td>1625.0</td>\n",
       "    </tr>\n",
       "    <tr>\n",
       "      <th>00:00:02</th>\n",
       "      <td>1625.0</td>\n",
       "    </tr>\n",
       "    <tr>\n",
       "      <th>00:00:03</th>\n",
       "      <td>1700.0</td>\n",
       "    </tr>\n",
       "    <tr>\n",
       "      <th>00:00:04</th>\n",
       "      <td>1750.0</td>\n",
       "    </tr>\n",
       "  </tbody>\n",
       "</table>\n",
       "</div>"
      ],
      "text/plain": [
       "icao24              4b1801\n",
       "timesincedeparture        \n",
       "00:00:00            1600.0\n",
       "00:00:01            1625.0\n",
       "00:00:02            1625.0\n",
       "00:00:03            1700.0\n",
       "00:00:04            1750.0"
      ]
     },
     "execution_count": 426,
     "metadata": {},
     "output_type": "execute_result"
    }
   ],
   "source": [
    "# Turn axis\n",
    "pivot = track.pivot('timesincedeparture', columns='icao24', values='altitude')\n",
    "\n",
    "pivot.head()\n",
    "#pivot.plot(kind='line')\n",
    "\n",
    "\n"
   ]
  },
  {
   "cell_type": "code",
   "execution_count": 288,
   "metadata": {},
   "outputs": [
    {
     "name": "stderr",
     "output_type": "stream",
     "text": [
      "/Library/Frameworks/Python.framework/Versions/3.6/lib/python3.6/site-packages/ipykernel_launcher.py:2: SettingWithCopyWarning: \n",
      "A value is trying to be set on a copy of a slice from a DataFrame.\n",
      "Try using .loc[row_indexer,col_indexer] = value instead\n",
      "\n",
      "See the caveats in the documentation: http://pandas.pydata.org/pandas-docs/stable/indexing.html#indexing-view-versus-copy\n",
      "  \n"
     ]
    }
   ],
   "source": [
    "#Timestamp to string\n",
    "track['timestamp'] = track['timestamp'].astype(str)\n",
    "\n",
    "#Drop bools and others\n",
    "track = track.drop(['alert', 'spi'], axis=1)\n",
    "\n",
    "#export\n",
    "track.to_file(\"qgis/4b1801_short.shp\")"
   ]
  },
  {
   "cell_type": "code",
   "execution_count": 136,
   "metadata": {},
   "outputs": [
    {
     "data": {
      "text/plain": [
       "<matplotlib.axes._subplots.AxesSubplot at 0x11e9ed4a8>"
      ]
     },
     "execution_count": 136,
     "metadata": {},
     "output_type": "execute_result"
    },
    {
     "data": {
      "image/png": "[encoded data removed]",
      "text/plain": [
       "<Figure size 720x720 with 1 Axes>"
      ]
     },
     "metadata": {},
     "output_type": "display_data"
    }
   ],
   "source": [
    "icao24.plot(figsize=(10,10))"
   ]
  },
  {
   "cell_type": "code",
   "execution_count": null,
   "metadata": {},
   "outputs": [],
   "source": []
  },
  {
   "cell_type": "code",
   "execution_count": null,
   "metadata": {},
   "outputs": [],
   "source": [
    "# Airport Zurich\n",
    "coords = [( 47.4863, 8.4994 ), ( 47.4283, 8.4994 ), ( 47.4283, 8.619 ), ( 47.4863, 8.619 ), ( 47.4863, 8.4994 )]\n",
    "zurich_airport = Polygon(coords)"
   ]
  },
  {
   "cell_type": "code",
   "execution_count": null,
   "metadata": {},
   "outputs": [],
   "source": [
    "df_zurich = geo_df[geo_df.geometry.within(zurich_airport)]"
   ]
  },
  {
   "cell_type": "code",
   "execution_count": null,
   "metadata": {
    "scrolled": true
   },
   "outputs": [],
   "source": [
    "df_zurich.plot(figsize=(12, 12),markersize=1, alpha=0.4)"
   ]
  },
  {
   "cell_type": "markdown",
   "metadata": {},
   "source": [
    "## Terminal\n",
    "Zoom to a terminal - just for fun"
   ]
  },
  {
   "cell_type": "markdown",
   "metadata": {},
   "source": [
    "Again, create a polygone"
   ]
  },
  {
   "cell_type": "code",
   "execution_count": null,
   "metadata": {},
   "outputs": [],
   "source": [
    "# Terminal\n",
    "coords = [( 47.4636, 8.5482 ), ( 47.4582, 8.5482 ), ( 47.4582, 8.5625 ), ( 47.4636, 8.5625 ), ( 47.4636, 8.5482 )]\n",
    "airport_terminal = Polygon(coords)"
   ]
  },
  {
   "cell_type": "markdown",
   "metadata": {},
   "source": [
    "Just select dots on the ground."
   ]
  },
  {
   "cell_type": "code",
   "execution_count": null,
   "metadata": {},
   "outputs": [],
   "source": [
    "geo_onground = geo_df[geo_df['onground'] == True]"
   ]
  },
  {
   "cell_type": "markdown",
   "metadata": {},
   "source": [
    "Select points inside polygon and plott"
   ]
  },
  {
   "cell_type": "code",
   "execution_count": null,
   "metadata": {},
   "outputs": [],
   "source": [
    "df_terminal = geo_onground[geo_onground.geometry.within(airport_terminal)]\n",
    "df_terminal.plot(figsize=(12, 12), markersize=1)"
   ]
  }
 ],
 "metadata": {
  "kernelspec": {
   "display_name": "Python 3",
   "language": "python",
   "name": "python3"
  },
  "language_info": {
   "codemirror_mode": {
    "name": "ipython",
    "version": 3
   },
   "file_extension": ".py",
   "mimetype": "text/x-python",
   "name": "python",
   "nbconvert_exporter": "python",
   "pygments_lexer": "ipython3",
   "version": "3.6.5"
  }
 },
 "nbformat": 4,
 "nbformat_minor": 2
}
